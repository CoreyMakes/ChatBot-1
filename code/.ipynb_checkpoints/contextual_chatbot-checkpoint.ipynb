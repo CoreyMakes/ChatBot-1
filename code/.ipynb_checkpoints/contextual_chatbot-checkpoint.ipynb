{
 "cells": [
  {
   "cell_type": "markdown",
   "metadata": {},
   "source": [
    "# Contextual Chatbot for Car Sales"
   ]
  },
  {
   "cell_type": "markdown",
   "metadata": {},
   "source": [
    "In this notebook, I create a bot that will respond to a users questions about car sales and times to meet in person."
   ]
  },
  {
   "cell_type": "code",
   "execution_count": 1,
   "metadata": {
    "collapsed": false
   },
   "outputs": [],
   "source": [
    "import nltk\n",
    "from nltk.stem.lancaster import LancasterStemmer\n",
    "stemmer = LancasterStemmer()\n",
    "\n",
    "import numpy as np\n",
    "import tflearn\n",
    "import tensorflow as tf\n",
    "import random"
   ]
  },
  {
   "cell_type": "markdown",
   "metadata": {},
   "source": [
    "In the file \"intents.json\" I have personally tags, patterns, repsonses and contexts (if needed). The patterns are what a user might as and the response is how someone might respond to that pattern. The tags allow us a gauge a \"theme\" of what they might be talking about, such as \"greeting\", \"goodbye\" or \"thanks\". The context will make it so a tag would have to come after another specific tag."
   ]
  },
  {
   "cell_type": "code",
   "execution_count": 2,
   "metadata": {
    "collapsed": false
   },
   "outputs": [],
   "source": [
    "import json\n",
    "with open('../data/intents2.json') as json_data:\n",
    "    intents = json.load(json_data)"
   ]
  },
  {
   "cell_type": "code",
   "execution_count": 3,
   "metadata": {
    "collapsed": false
   },
   "outputs": [
    {
     "name": "stdout",
     "output_type": "stream",
     "text": [
      "43 documents\n",
      "10 classes ['car', 'cost', 'dayfree', 'goodbye', 'greeting', 'hours', 'opening', 'thanks', 'todayhours', 'tomorrowhours']\n",
      "54 unique stemmed words [\"'s\", 'a', 'afternoon', 'anyon', 'ar', 'avail', 'be', 'bye', 'car', 'clos', 'cost', 'day', 'deal', 'do', 'doe', 'ev', 'fre', 'good', 'goodby', 'hav', 'hello', 'help', 'hey', 'hi', 'hour', 'how', 'is', 'lat', 'model', 'morn', 'much', 'now', 'op', 'paid', 'pay', 'pric', 'rang', 'see', 'thank', 'that', 'the', 'ther', 'thi', 'tim', 'today', 'tomorrow', 'vehic', 'week', 'what', 'when', 'wil', 'work', 'yo', 'you']\n",
      "10 subdocuments\n",
      "3 subclasses ['todayhours', 'tomorrowhours', 'dayfree']\n",
      "8 unique stemmed words ['afternoon', 'day', 'morn', 'now', 'thi', 'today', 'tomorrow', 'week']\n"
     ]
    }
   ],
   "source": [
    "words = []\n",
    "classes = []\n",
    "documents = []\n",
    "ignore_words = ['?']\n",
    "subintent_values = {}\n",
    "# loop through each sentence in our intents patterns\n",
    "for intent in intents['intents']:\n",
    "    \n",
    "    for pattern in intent['patterns']:\n",
    "        w = nltk.word_tokenize(pattern)\n",
    "        words.extend(w)\n",
    "        documents.append((w, intent['tag']))\n",
    "        if intent['tag'] not in classes:\n",
    "            classes.append(intent['tag'])\n",
    "    \n",
    "    # if the intent has subintents, store all subintent values\n",
    "    if 'subintents' in intent.keys():\n",
    "        subintent_values[intent['tag']] = {'words': [], 'classes': [], 'documents': []}\n",
    "        for subintent in intent['subintents']:\n",
    "            for pattern in subintent['patterns']:\n",
    "                # tokenize each word in the sentence\n",
    "                w = nltk.word_tokenize(pattern)\n",
    "                # add to our words list\n",
    "                words.extend(w)\n",
    "                subintent_values[intent['tag']]['words'].extend(w)\n",
    "                # add to documents in our corpus\n",
    "                documents.append((w, intent['tag']))\n",
    "                subintent_values[intent['tag']]['documents'].append((w, subintent['tag']))\n",
    "                # add to our classes list\n",
    "                if subintent['tag'] not in subintent_values[intent['tag']]['classes']:\n",
    "                    classes.append(subintent['tag'])\n",
    "                    subintent_values[intent['tag']]['classes'].append(subintent['tag'])\n",
    "        if intent['tag'] not in classes:\n",
    "            classes.append(intent['tag'])\n",
    "\n",
    "# stem and lower each word and remove duplicates\n",
    "words = [stemmer.stem(w.lower()) for w in words if w not in ignore_words]\n",
    "words = sorted(list(set(words)))\n",
    "for subintent in subintent_values:\n",
    "    subintent_values[subintent]['words'] = [stemmer.stem(w.lower()) for w in subintent_values[subintent]['words'] if w not in ignore_words]\n",
    "    subintent_values[subintent]['words'] = sorted(list(set(subintent_values[subintent]['words'])))\n",
    "\n",
    "# remove duplicates\n",
    "classes = sorted(list(set(classes)))\n",
    "\n",
    "print (len(documents), \"documents\")\n",
    "print (len(classes), \"classes\", classes)\n",
    "print (len(words), \"unique stemmed words\", words)\n",
    "print(len(subintent_values['hours']['documents']), \"subdocuments\")\n",
    "print(len(subintent_values['hours']['classes']), \"subclasses\", subintent_values['hours']['classes'])\n",
    "print(len(subintent_values['hours']['words']), \"unique stemmed words\", subintent_values['hours']['words'])"
   ]
  },
  {
   "cell_type": "markdown",
   "metadata": {},
   "source": [
    "## Neural Net\n",
    "Now I will produce the training data and create a 2 layer neural net for the intents as well as for each subintent."
   ]
  },
  {
   "cell_type": "code",
   "execution_count": 4,
   "metadata": {
    "collapsed": false
   },
   "outputs": [],
   "source": [
    "# create our training data\n",
    "training = []\n",
    "output = []\n",
    "# create an empty array for our output\n",
    "output_empty = [0] * len(classes)\n",
    "\n",
    "# training set, bag of words for each sentence\n",
    "for doc in documents:\n",
    "    # initialize our bag of words\n",
    "    bag = []\n",
    "    # list of tokenized words for the pattern\n",
    "    pattern_words = doc[0]\n",
    "    # stem each word\n",
    "    pattern_words = [stemmer.stem(word.lower()) for word in pattern_words]\n",
    "    # create our bag of words array\n",
    "    for w in words:\n",
    "        bag.append(1) if w in pattern_words else bag.append(0)\n",
    "\n",
    "    # output is a '0' for each tag and '1' for current tag\n",
    "    output_row = list(output_empty)\n",
    "    output_row[classes.index(doc[1])] = 1\n",
    "\n",
    "    training.append([bag, output_row])\n",
    "\n",
    "# shuffle our features and turn into np.array\n",
    "random.shuffle(training)\n",
    "training = np.array(training)\n",
    "\n",
    "# create train and test lists\n",
    "train_x = list(training[:,0])\n",
    "train_y = list(training[:,1])"
   ]
  },
  {
   "cell_type": "code",
   "execution_count": 5,
   "metadata": {
    "collapsed": false
   },
   "outputs": [
    {
     "name": "stdout",
     "output_type": "stream",
     "text": [
      "Training Step: 5999  | total loss: \u001b[1m\u001b[32m0.59400\u001b[0m\u001b[0m | time: 0.022s\n",
      "| Adam | epoch: 1000 | loss: 0.59400 - acc: 0.9302 -- iter: 40/43\n",
      "Training Step: 6000  | total loss: \u001b[1m\u001b[32m0.54602\u001b[0m\u001b[0m | time: 0.024s\n",
      "| Adam | epoch: 1000 | loss: 0.54602 - acc: 0.9372 -- iter: 43/43\n",
      "--\n",
      "INFO:tensorflow:/home/ian/ChatBot/code/model.tflearn is not in all_model_checkpoint_paths. Manually adding it.\n"
     ]
    }
   ],
   "source": [
    "# reset underlying graph data\n",
    "tf.reset_default_graph()\n",
    "# Build neural network\n",
    "net = tflearn.input_data(shape=[None, len(train_x[0])])\n",
    "net = tflearn.fully_connected(net, 8)\n",
    "net = tflearn.fully_connected(net, 8)\n",
    "net = tflearn.fully_connected(net, len(train_y[0]), activation='softmax')\n",
    "net = tflearn.regression(net)\n",
    "\n",
    "# Define model and setup tensorboard\n",
    "model = tflearn.DNN(net, tensorboard_dir='tflearn_logs')\n",
    "# Start training (apply gradient descent algorithm)\n",
    "model.fit(train_x, train_y, n_epoch=1000, batch_size=8, show_metric=True)\n",
    "model.save('model.tflearn')"
   ]
  },
  {
   "cell_type": "code",
   "execution_count": 6,
   "metadata": {
    "collapsed": false
   },
   "outputs": [
    {
     "name": "stdout",
     "output_type": "stream",
     "text": [
      "Training Step: 1999  | total loss: \u001b[1m\u001b[32m0.37175\u001b[0m\u001b[0m | time: 0.003s\n",
      "| Adam | epoch: 1000 | loss: 0.37175 - acc: 0.7162 -- iter: 08/10\n",
      "Training Step: 2000  | total loss: \u001b[1m\u001b[32m0.36605\u001b[0m\u001b[0m | time: 0.006s\n",
      "| Adam | epoch: 1000 | loss: 0.36605 - acc: 0.7321 -- iter: 10/10\n",
      "--\n"
     ]
    }
   ],
   "source": [
    "# Now create models for each subintent\n",
    "for subintent in subintent_values:\n",
    "    training = []\n",
    "    output = []\n",
    "\n",
    "    output_empty = [0] * len(subintent_values[subintent]['classes'])\n",
    "\n",
    "    for doc in subintent_values[subintent]['documents']:\n",
    "        bag = []\n",
    "        pattern_words = doc[0]\n",
    "        pattern_words = [stemmer.stem(word.lower()) for word in pattern_words]\n",
    "        # create our bag of words array\n",
    "        for w in words:\n",
    "            bag.append(1) if w in pattern_words else bag.append(0)\n",
    "\n",
    "        # output is a '0' for each tag and '1' for current tag\n",
    "        output_row = list(output_empty)\n",
    "        output_row[subintent_values[subintent]['classes'].index(doc[1])] = 1\n",
    "\n",
    "        training.append([bag, output_row])\n",
    "\n",
    "    # shuffle our features and turn into np.array\n",
    "    random.shuffle(training)\n",
    "    training = np.array(training)\n",
    "\n",
    "    # create train and test lists\n",
    "    subintent_values[subintent]['train_x'] = list(training[:,0])\n",
    "    subintent_values[subintent]['train_y'] = list(training[:,1])\n",
    "    \n",
    "    # reset underlying graph data\n",
    "    tf.reset_default_graph()\n",
    "    # Build neural network\n",
    "    net = tflearn.input_data(shape=[None, len(subintent_values[subintent]['train_x'][0])])\n",
    "    net = tflearn.fully_connected(net, 8)\n",
    "    net = tflearn.fully_connected(net, 8)\n",
    "    net = tflearn.fully_connected(net, len(subintent_values[subintent]['train_y'][0]), activation='softmax')\n",
    "    net = tflearn.regression(net)\n",
    "\n",
    "    # Define model and setup tensorboard\n",
    "    submodel = tflearn.DNN(net, tensorboard_dir='tflearn_logs')\n",
    "    # Start training (apply gradient descent algorithm)\n",
    "    submodel.fit(subintent_values[subintent]['train_x'], subintent_values[subintent]['train_y'], n_epoch=1000, batch_size=8, show_metric=True)\n",
    "    subintent_values[subintent]['model'] = submodel"
   ]
  },
  {
   "cell_type": "code",
   "execution_count": 7,
   "metadata": {
    "collapsed": true
   },
   "outputs": [],
   "source": [
    "def clean_up_sentence(sentence):\n",
    "    # tokenize the pattern\n",
    "    sentence_words = nltk.word_tokenize(sentence)\n",
    "    # stem each word\n",
    "    sentence_words = [stemmer.stem(word.lower()) for word in sentence_words]\n",
    "    return sentence_words\n",
    "\n",
    "# return bag of words array: 0 or 1 for each word in the bag that exists in the sentence\n",
    "def bow(sentence, words, show_details=False):\n",
    "    # tokenize the pattern\n",
    "    sentence_words = clean_up_sentence(sentence)\n",
    "    # bag of words\n",
    "    bag = [0]*len(words)  \n",
    "    for s in sentence_words:\n",
    "        for i,w in enumerate(words):\n",
    "            if w == s: \n",
    "                bag[i] = 1\n",
    "                if show_details:\n",
    "                    print (\"found in bag: %s\" % w)\n",
    "\n",
    "    return(np.array(bag))"
   ]
  },
  {
   "cell_type": "code",
   "execution_count": 8,
   "metadata": {
    "collapsed": false
   },
   "outputs": [
    {
     "name": "stdout",
     "output_type": "stream",
     "text": [
      "[0 0 0 0 0 1 1 0 0 0 0 0 0 0 0 0 0 0 0 0 0 0 0 0 0 0 0 0 0 0 0 0 0 0 0 0 0\n",
      " 0 0 0 0 0 0 1 1 0 0 0 1 0 1 0 0 1]\n",
      "['car', 'cost', 'dayfree', 'goodbye', 'greeting', 'hours', 'opening', 'thanks', 'todayhours', 'tomorrowhours']\n"
     ]
    }
   ],
   "source": [
    "p = bow(\"What time will you be available today?\", words)\n",
    "print (p)\n",
    "print (classes)"
   ]
  },
  {
   "cell_type": "code",
   "execution_count": 9,
   "metadata": {
    "collapsed": true
   },
   "outputs": [],
   "source": [
    "# This will hold the context of the conversation\n",
    "context = {}\n",
    "\n",
    "# Classification has to be over this threshold to give a response\n",
    "ERROR_THRESHOLD = 0.6\n",
    "def classify(sentence, m, c):\n",
    "    # generate probabilities from the model\n",
    "    results = m.predict([bow(sentence, words)])[0]\n",
    "    # filter out predictions below a threshold\n",
    "    results = [[i,r] for i,r in enumerate(results) if r>ERROR_THRESHOLD]\n",
    "    # sort by strength of probability\n",
    "    results.sort(key=lambda x: x[1], reverse=True)\n",
    "    return_list = []\n",
    "    for r in results:\n",
    "        return_list.append((c[r[0]], r[1]))\n",
    "    # return tuple of intent and probability\n",
    "    return return_list\n",
    "\n",
    "# A subresponse method is necessary for when there are subintents\n",
    "def subresponse(sentence, intent, values, userID='123', show_details=False):\n",
    "    results = classify(sentence, values['model'], values['classes'])\n",
    "    # if we have a classification then find the matching intent tag\n",
    "    if results:\n",
    "        # loop as long as there are matches to process\n",
    "        while results:\n",
    "            for i in intent['subintents']:\n",
    "                # find a tag matching the first result\n",
    "                if i['tag'] == results[0][0]:\n",
    "                    # set context for this intent if necessary\n",
    "                    if 'context_set' in i:\n",
    "                        if show_details: print ('context:', i['context_set'])\n",
    "                        context[userID] = i['context_set']\n",
    "\n",
    "                    # check if this intent is contextual and applies to this user's conversation\n",
    "                    if not 'context_filter' in i or \\\n",
    "                        (userID in context and 'context_filter' in i and i['context_filter'] == context[userID]):\n",
    "                        if show_details: print ('tag:', i['tag'])\n",
    "                        if 'subintents' in i.keys():\n",
    "                            subresults = classify(sentence, subintent_values[i['tag']]['model'])\n",
    "                            \n",
    "                        else:\n",
    "                            # a random response from the intent\n",
    "                            return print(random.choice(i['responses']))\n",
    "                    else:\n",
    "                        print('Response was out of context!')\n",
    "\n",
    "            results.pop(0)\n",
    "\n",
    "def response(sentence, userID='123', show_details=False):\n",
    "    results = classify(sentence, model, classes)\n",
    "    # if we have a classification then find the matching intent tag\n",
    "    if results:\n",
    "        # loop as long as there are matches to process\n",
    "        while results:\n",
    "            for i in intents['intents']:\n",
    "                # find a tag matching the first result\n",
    "                if i['tag'] == results[0][0]:\n",
    "                    # set context for this intent if necessary\n",
    "                    if 'context_set' in i:\n",
    "                        if show_details: print ('context:', i['context_set'])\n",
    "                        context[userID] = i['context_set']\n",
    "\n",
    "                    # check if this intent is contextual and applies to this user's conversation\n",
    "                    if not 'context_filter' in i or \\\n",
    "                        (userID in context and 'context_filter' in i and i['context_filter'] == context[userID]):\n",
    "                        if show_details: print ('tag:', i['tag'])\n",
    "                        # Check id there are subintents. If so then refer to one of their repsonses\n",
    "                        if 'subintents' in i.keys():\n",
    "                            subresponse(sentence, i, subintent_values[i['tag']])\n",
    "                            \n",
    "                        else:\n",
    "                            # a random response from the intent\n",
    "                            return print(random.choice(i['responses']))\n",
    "                    else:\n",
    "                        print('Response was out of context!')\n",
    "\n",
    "            results.pop(0)"
   ]
  },
  {
   "cell_type": "markdown",
   "metadata": {},
   "source": [
    "## Testing\n",
    "Below I will test the bot with questions an average customer might as, such as greetings, when they can meet, how much the cars cost and what the makes and models are."
   ]
  },
  {
   "cell_type": "code",
   "execution_count": 10,
   "metadata": {
    "collapsed": false
   },
   "outputs": [
    {
     "data": {
      "text/plain": [
       "[('hours', 0.99866962)]"
      ]
     },
     "execution_count": 10,
     "metadata": {},
     "output_type": "execute_result"
    }
   ],
   "source": [
    "classify('Are you free today?', model, classes)"
   ]
  },
  {
   "cell_type": "code",
   "execution_count": 11,
   "metadata": {
    "collapsed": false
   },
   "outputs": [
    {
     "name": "stdout",
     "output_type": "stream",
     "text": [
      "I can talk this afternoon.\n"
     ]
    }
   ],
   "source": [
    "response('Are you free today?')"
   ]
  },
  {
   "cell_type": "code",
   "execution_count": 12,
   "metadata": {
    "collapsed": false
   },
   "outputs": [
    {
     "name": "stdout",
     "output_type": "stream",
     "text": [
      "I can talk tomorrow morning.\n"
     ]
    }
   ],
   "source": [
    "response('I would like to meet tomorrow?')"
   ]
  },
  {
   "cell_type": "code",
   "execution_count": 13,
   "metadata": {
    "collapsed": false
   },
   "outputs": [
    {
     "name": "stdout",
     "output_type": "stream",
     "text": [
      "I am all booked this week unfortunately.\n"
     ]
    }
   ],
   "source": [
    "response('Would you like to meet sometime this week?')"
   ]
  },
  {
   "cell_type": "code",
   "execution_count": 14,
   "metadata": {
    "collapsed": false
   },
   "outputs": [
    {
     "name": "stdout",
     "output_type": "stream",
     "text": [
      "We have the Toyota Higlander and Honda Civic in stock.\n"
     ]
    }
   ],
   "source": [
    "response('what kind of cars do you sell?')"
   ]
  },
  {
   "cell_type": "code",
   "execution_count": 15,
   "metadata": {
    "collapsed": false
   },
   "outputs": [
    {
     "name": "stdout",
     "output_type": "stream",
     "text": [
      "Bye! Hope to speak again soon.\n"
     ]
    }
   ],
   "source": [
    "response('Goodbye, see you later')"
   ]
  },
  {
   "cell_type": "code",
   "execution_count": 16,
   "metadata": {
    "collapsed": false
   },
   "outputs": [
    {
     "name": "stdout",
     "output_type": "stream",
     "text": [
      "The Toyota Higlander is around $30,000 and the Honda Civic is around $19,000.\n"
     ]
    }
   ],
   "source": [
    "response('How much do your cars cost?')"
   ]
  },
  {
   "cell_type": "code",
   "execution_count": 17,
   "metadata": {
    "collapsed": false
   },
   "outputs": [
    {
     "name": "stdout",
     "output_type": "stream",
     "text": [
      "context: \n",
      "tag: greeting\n",
      "Good to see speak with you again.\n"
     ]
    }
   ],
   "source": [
    "# clear context\n",
    "response(\"Hi there!\", show_details=True)"
   ]
  },
  {
   "cell_type": "code",
   "execution_count": 18,
   "metadata": {
    "collapsed": false
   },
   "outputs": [
    {
     "name": "stdout",
     "output_type": "stream",
     "text": [
      "I can talk this afternoon.\n"
     ]
    },
    {
     "data": {
      "text/plain": [
       "[('hours', 0.95496374)]"
      ]
     },
     "execution_count": 18,
     "metadata": {},
     "output_type": "execute_result"
    }
   ],
   "source": [
    "response('today')\n",
    "classify('today', model, classes)"
   ]
  },
  {
   "cell_type": "markdown",
   "metadata": {},
   "source": [
    "If classify percentage is not above the threshold then there is no response"
   ]
  },
  {
   "cell_type": "code",
   "execution_count": 20,
   "metadata": {
    "collapsed": false
   },
   "outputs": [],
   "source": [
    "response('ewweffwe dwedwef edwed')"
   ]
  },
  {
   "cell_type": "code",
   "execution_count": null,
   "metadata": {
    "collapsed": true
   },
   "outputs": [],
   "source": []
  }
 ],
 "metadata": {
  "kernelspec": {
   "display_name": "Python 3",
   "language": "python",
   "name": "python3"
  },
  "language_info": {
   "codemirror_mode": {
    "name": "ipython",
    "version": 3
   },
   "file_extension": ".py",
   "mimetype": "text/x-python",
   "name": "python",
   "nbconvert_exporter": "python",
   "pygments_lexer": "ipython3",
   "version": "3.6.0"
  }
 },
 "nbformat": 4,
 "nbformat_minor": 2
}
